{
 "cells": [
  {
   "cell_type": "code",
   "execution_count": 7,
   "id": "413016d5",
   "metadata": {},
   "outputs": [
    {
     "name": "stderr",
     "output_type": "stream",
     "text": [
      "c:\\Users\\vaibh\\AppData\\Local\\Programs\\Python\\Python312\\Lib\\site-packages\\urllib3\\connectionpool.py:1099: InsecureRequestWarning: Unverified HTTPS request is being made to host 'raw.githubusercontent.com'. Adding certificate verification is strongly advised. See: https://urllib3.readthedocs.io/en/latest/advanced-usage.html#tls-warnings\n",
      "  warnings.warn(\n"
     ]
    },
    {
     "data": {
      "text/plain": [
       "f14    0.012991\n",
       "f15    0.032031\n",
       "f11    0.071101\n",
       "f12    0.084564\n",
       "f1     0.095287\n",
       "f2     0.105364\n",
       "f9     0.144254\n",
       "f4     0.454410\n",
       "dtype: float64"
      ]
     },
     "execution_count": 7,
     "metadata": {},
     "output_type": "execute_result"
    }
   ],
   "source": [
    "\n",
    "\n",
    "# Using the dataset, train a DecisionTree to predict salary using the features: ['f15', 'f1', 'f9', 'f4', 'f14', 'f11', 'f12', 'f2'].\n",
    "# Split the data into train and test sets with test_size=20% and random_state=160.\n",
    "# Train the model using max_depth=7. Which feature has the highest importance in the trained model?\n",
    "\n",
    "\t\n",
    "# f2\n",
    "# f4\n",
    "# f9\n",
    "\n",
    "import requests\n",
    "import io\n",
    "import pandas as pd\n",
    "import numpy as np\n",
    "import sklearn\n",
    "\n",
    "# dataset\n",
    "df_url = 'https://raw.githubusercontent.com/aishwarya13-r/DAB200/refs/heads/main/salary_e2.csv'\n",
    "url_content = requests.get(df_url, verify=False).content\n",
    "data = pd.read_csv(io.StringIO(url_content.decode('utf-8')))\n",
    "\n",
    "\t\n",
    "# Using the dataset, train a DecisionTree to predict salary using the features: ['f15', 'f1', 'f9', 'f4', 'f14', 'f11', 'f12', 'f2']. Split the data into train and test sets with test_size=20% and random_state=160. Train the model using max_depth=7. Which feature has the highest importance in the trained model?\n",
    "\n",
    "X = data[['f15', 'f1', 'f9', 'f4', 'f14', 'f11', 'f12', 'f2']]\n",
    "y = data[['salary']]\n",
    "\n",
    "from sklearn.model_selection import train_test_split\n",
    "\n",
    "X_train, X_test, y_train, y_test = train_test_split(X, y, test_size=0.2, random_state=160)\n",
    "\n",
    "from sklearn.tree import DecisionTreeRegressor\n",
    "\n",
    "reg = DecisionTreeRegressor(max_depth=7, random_state=160)\n",
    "reg.fit(X_train,y_train)\n",
    "\n",
    "reg.feature_importances_\n",
    "\n",
    "reg.feature_names_in_\n",
    "\n",
    "pd.Series(data=reg.feature_importances_, index= reg.feature_names_in_).sort_values()"
   ]
  },
  {
   "cell_type": "code",
   "execution_count": 8,
   "id": "f30e122c",
   "metadata": {},
   "outputs": [
    {
     "name": "stderr",
     "output_type": "stream",
     "text": [
      "c:\\Users\\vaibh\\AppData\\Local\\Programs\\Python\\Python312\\Lib\\site-packages\\urllib3\\connectionpool.py:1099: InsecureRequestWarning: Unverified HTTPS request is being made to host 'raw.githubusercontent.com'. Adding certificate verification is strongly advised. See: https://urllib3.readthedocs.io/en/latest/advanced-usage.html#tls-warnings\n",
      "  warnings.warn(\n",
      "c:\\Users\\vaibh\\AppData\\Local\\Programs\\Python\\Python312\\Lib\\site-packages\\sklearn\\base.py:1389: DataConversionWarning: A column-vector y was passed when a 1d array was expected. Please change the shape of y to (n_samples,), for example using ravel().\n",
      "  return fit_method(estimator, *args, **kwargs)\n"
     ]
    },
    {
     "data": {
      "text/plain": [
       "1     0.027213\n",
       "2     0.021560\n",
       "3     0.011360\n",
       "4     0.022617\n",
       "5     0.048004\n",
       "6     0.011022\n",
       "7     0.235106\n",
       "8     0.372638\n",
       "9     0.016365\n",
       "10    0.037302\n",
       "11    0.021254\n",
       "12    0.021526\n",
       "13    0.117298\n",
       "14    0.002821\n",
       "15    0.032324\n",
       "16    0.001589\n",
       "dtype: float64"
      ]
     },
     "execution_count": 8,
     "metadata": {},
     "output_type": "execute_result"
    }
   ],
   "source": [
    "# dataset2 (Data2)\n",
    "df_url = 'https://raw.githubusercontent.com/akmand/datasets/main/baseball.csv'\n",
    "url_content = requests.get(df_url, verify=False).content\n",
    "data2 = pd.read_csv(io.StringIO(url_content.decode('utf-8')))  \n",
    "\n",
    "\n",
    "\t\n",
    "# If data2.sample(n=146,random_state=78) is your data where 'salary' is target,\n",
    "# what would be the feature importance for feature '2' with using baseline random forest model with 79 trees and random_state = 78?\n",
    "\n",
    "\t\n",
    "# 0.021560401431315983\n",
    "# -0.03443959856868402\n",
    "# 0.09956040143131598\n",
    "\n",
    "\n",
    "sample1 = data2.sample(n=146,random_state=78) \n",
    "\n",
    "X = sample1.drop('salary', axis=1)\n",
    "y = sample1[['salary']]\n",
    "\n",
    "from sklearn.ensemble import RandomForestRegressor\n",
    "\n",
    "reg = RandomForestRegressor(n_estimators=79, random_state=78)\n",
    "reg.fit(X,y)\n",
    "\n",
    "pd.Series(data= reg.feature_importances_, index = reg.feature_names_in_)"
   ]
  },
  {
   "cell_type": "code",
   "execution_count": 9,
   "id": "e868a82e",
   "metadata": {},
   "outputs": [
    {
     "name": "stderr",
     "output_type": "stream",
     "text": [
      "c:\\Users\\vaibh\\AppData\\Local\\Programs\\Python\\Python312\\Lib\\site-packages\\urllib3\\connectionpool.py:1099: InsecureRequestWarning: Unverified HTTPS request is being made to host 'raw.githubusercontent.com'. Adding certificate verification is strongly advised. See: https://urllib3.readthedocs.io/en/latest/advanced-usage.html#tls-warnings\n",
      "  warnings.warn(\n",
      "c:\\Users\\vaibh\\AppData\\Local\\Programs\\Python\\Python312\\Lib\\site-packages\\sklearn\\base.py:1389: DataConversionWarning: A column-vector y was passed when a 1d array was expected. Please change the shape of y to (n_samples,), for example using ravel().\n",
      "  return fit_method(estimator, *args, **kwargs)\n"
     ]
    },
    {
     "data": {
      "text/plain": [
       "bia.di    0.059750\n",
       "bii.di    0.008064\n",
       "bit.di    0.008652\n",
       "che.de    0.003628\n",
       "che.di    0.016694\n",
       "elb.di    0.054014\n",
       "wri.di    0.066083\n",
       "kne.di    0.015058\n",
       "ank.di    0.048991\n",
       "sho.gi    0.070996\n",
       "che.gi    0.083848\n",
       "wai.gi    0.048865\n",
       "nav.gi    0.015311\n",
       "hip.gi    0.014884\n",
       "thi.gi    0.033967\n",
       "bic.gi    0.123997\n",
       "for.gi    0.119014\n",
       "kne.gi    0.002416\n",
       "cal.gi    0.006002\n",
       "ank.gi    0.004907\n",
       "wri.gi    0.084388\n",
       "age       0.008205\n",
       "wgt       0.026129\n",
       "hgt       0.076136\n",
       "dtype: float64"
      ]
     },
     "execution_count": 9,
     "metadata": {},
     "output_type": "execute_result"
    }
   ],
   "source": [
    "# dataset1 (Data1)\n",
    "df_url = 'https://raw.githubusercontent.com/akmand/datasets/master/openintro/bdims.csv'\n",
    "url_content = requests.get(df_url, verify=False).content\n",
    "data1 = pd.read_csv(io.StringIO(url_content.decode('utf-8')))\n",
    "\n",
    "\n",
    "# If data1.sample(n=90,random_state=57) is your data where 'sex' is target,\n",
    "# what would be the feature importance for feature 'bic.gi' with using baseline random forest model with 105 trees and random_state = 57?\n",
    "\n",
    "# 0.02599723837619486\n",
    "# 0.25799723837619487\n",
    "# 0.12399723837619486\n",
    "\n",
    "sample2 = data1.sample(n=90,random_state=57) \n",
    "\n",
    "from sklearn.ensemble import RandomForestClassifier\n",
    "\n",
    "X = sample2.drop('sex',axis=1)\n",
    "y = sample2[['sex']]\n",
    "\n",
    "clf = RandomForestClassifier(n_estimators=105, random_state=57)\n",
    "clf.fit(X,y)\n",
    "\n",
    "pd.Series(data = clf.feature_importances_, index = clf.feature_names_in_)"
   ]
  }
 ],
 "metadata": {
  "kernelspec": {
   "display_name": "Python 3",
   "language": "python",
   "name": "python3"
  },
  "language_info": {
   "codemirror_mode": {
    "name": "ipython",
    "version": 3
   },
   "file_extension": ".py",
   "mimetype": "text/x-python",
   "name": "python",
   "nbconvert_exporter": "python",
   "pygments_lexer": "ipython3",
   "version": "3.12.1"
  }
 },
 "nbformat": 4,
 "nbformat_minor": 5
}
