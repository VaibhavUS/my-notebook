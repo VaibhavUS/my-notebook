{
 "cells": [
  {
   "cell_type": "markdown",
   "id": "35ab7924",
   "metadata": {},
   "source": [
    "1. A survey of 1,200 voters found that 48% approve of a certain political leader. The \n",
    "margin of error at 95% confidence is ±2.5%. A news report states: \"A majority of \n",
    "voters approve of the leader.\" At 95% confidence, using the p_value approach, is \n",
    "this statement justified?\n",
    "\n",
    "\n",
    "• Null hypothesis (H₀): p ≤ 0.5 (50% or fewer approve)\n",
    "• Alternative hypothesis (H₁): p > 0.5 (more than 50% approve)\n",
    "• Sample proportion (p̂ ): 0.48\n",
    "• Sample size (n): 1200\n",
    "• Standard error (SE): √[0.5×0.5/1200] ≈ 0.0144\n",
    "• z = (0.48 - 0.5)/0.0144 ≈ -1.39\n",
    "• p-value: P(Z > -1.39) ≈ 0.9177 (we're testing one-tailed for p > 0.5, so P(Z > 1.39) = \n",
    "0.0823)\n",
    "• Decision: p-value > 0.05 → Fail to reject H₀\n",
    "• Conclusion: Not justified"
   ]
  },
  {
   "cell_type": "markdown",
   "id": "10967cf8",
   "metadata": {},
   "source": [
    "2. A survey of 850 customers found that 67% were satisfied with a new product. The \n",
    "margin of error at 95% confidence is ±4%. An advertisement states: \"At least 65% of \n",
    "our customers are satisfied with this product.\" At 95% confidence, using the \n",
    "p_value approach, is this claim justified?\n",
    "\n",
    "\n",
    "• H₀: p < 0.65\n",
    "• H₁: p ≥ 0.65\n",
    "• p̂ = 0.67, n = 850\n",
    "• SE = √ [0.65×0.35/850] ≈ 0.0162\n",
    "• z = (0.67 - 0.65)/0.0162 ≈ 1.23\n",
    "• p-value ≈ 0.1093\n",
    "• Conclusion: p-value > 0.05 → Fail to reject H₀\n",
    "• Conclusion: Not justified"
   ]
  },
  {
   "cell_type": "markdown",
   "id": "916db1f5",
   "metadata": {},
   "source": [
    "3. A medical study on 1,500 people found that 53% of participants avoided the flu \n",
    "after vaccination. The margin of error at 95% confidence is ±2.9%.\n",
    "A health magazine claims: \"More than half of vaccinated people avoid the flu.\"\n",
    "At 95% confidence, using the p_value approach, is this statement supported?\n",
    "\n",
    "\n",
    "• H₀: p ≤ 0.5\n",
    "• H₁: p > 0.5\n",
    "• p̂ = 0.53, n = 1500\n",
    "• SE = √[0.5×0.5/1500] ≈ 0.0129\n",
    "• z = (0.53 - 0.5)/0.0129 ≈ 2.33\n",
    "• p-value ≈ 0.0099\n",
    "• Conclusion: p-value < 0.05 → Reject H₀\n",
    "• Conclusion: Supported"
   ]
  },
  {
   "cell_type": "markdown",
   "id": "1764b69e",
   "metadata": {},
   "source": [
    "4. A survey of 2,000 teenagers found that 78% use the internet daily. The margin of \n",
    "error at 95% confidence is ±1.5%. A news article states: \"At least 80% of teens use the internet daily.\"\n",
    "At 95% confidence, using the p_value approach, is this claim justified?\n",
    "\n",
    "\n",
    "• H₀: p ≥ 0.8\n",
    "• H₁: p < 0.8\n",
    "• p̂ = 0.78, n = 2000\n",
    "• SE = √[0.8×0.2/2000] ≈ 0.0089\n",
    "• z = (0.78 - 0.8)/0.0089 ≈ -2.25\n",
    "• p-value ≈ 0.0122\n",
    "• Conclusion: p-value < 0.05 → Reject H₀\n",
    "• Conclusion: Not justified"
   ]
  },
  {
   "cell_type": "markdown",
   "id": "d2bb7940",
   "metadata": {},
   "source": [
    "5. A study of 900 adults found that 62% believe climate change is a major threat. \n",
    "The margin of error at 95% confidence is ±3.5%. A newspaper headline reads: \"More than 60% of Americans believe climate change \n",
    "is a major threat.\" At 95% confidence, using the p_value approach, is this claim supported?\n",
    "\n",
    "\n",
    "• H₀: p ≤ 0.6\n",
    "• H₁: p > 0.6\n",
    "• p̂ = 0.62, n = 900\n",
    "• SE = √[0.6×0.4/900] ≈ 0.0163\n",
    "• z = (0.62 - 0.6)/0.0163 ≈ 1.23\n",
    "• p-value ≈ 0.1093\n",
    "• Conclusion: p-value > 0.05 → Fail to reject H₀\n",
    "• Conclusion: Not supported"
   ]
  },
  {
   "cell_type": "markdown",
   "id": "f590bcf7",
   "metadata": {},
   "source": [
    "6. A company survey of 750 employees found that 85% were satisfied with their job. \n",
    "The margin of error at 95% confidence is ±4.9%.\n",
    "The company states in a report: \"At least 80% of our employees are satisfied with \n",
    "their job.\" At 95% confidence, using the p_value approach, is this statement justified?\n",
    "\n",
    "\n",
    "• H₀: p < 0.8\n",
    "• H₁: p ≥ 0.8\n",
    "• p̂ = 0.85, n = 750\n",
    "• SE = √[0.8×0.2/750] ≈ 0.0146\n",
    "• z = (0.85 - 0.8)/0.0146 ≈ 3.42\n",
    "• p-value ≈ 0.0003\n",
    "• Conclusion: p-value < 0.05 → Reject H₀\n",
    "• Conclusion: Justified"
   ]
  },
  {
   "cell_type": "markdown",
   "id": "a2d6a7ee",
   "metadata": {},
   "source": [
    "7. A national poll of 1,300 citizens found that 49% support a new policy. The margin \n",
    "of error at 95% confidence is ±3%.\n",
    "A political analyst claims: \"The country is divided on this issue, with around half \n",
    "supporting the new policy.\" At 95% confidence, using the p_value approach, is this claim reasonable?\n",
    "\n",
    "\n",
    "• H₀: p ≠ 0.5 (two-tailed test)\n",
    "• p̂ = 0.49, n = 1300\n",
    "• SE = √[0.5×0.5/1300] ≈ 0.0139\n",
    "• z = (0.49 - 0.5)/0.0139 ≈ -0.72\n",
    "• p-value ≈ 0.4716\n",
    "• Conclusion: p-value > 0.05 → Fail to reject H₀\n",
    "• Conclusion: Reasonable"
   ]
  },
  {
   "cell_type": "markdown",
   "id": "e987c660",
   "metadata": {},
   "source": [
    "8. A study of 1,100 people found that 40% eat fast food at least once per week. The \n",
    "margin of error at 95% confidence is ±2.5%.\n",
    "A health blog states: \"Fewer than 45% of people eat fast food weekly.\" At 95% confidence, using the p_value approach, is this statement accurate?\n",
    "\n",
    "\n",
    "• H₀: p ≥ 0.45\n",
    "• H₁: p < 0.45\n",
    "• p̂ = 0.40, n = 1100\n",
    "• SE = √[0.45×0.55/1100] ≈ 0.0149\n",
    "• z = (0.40 - 0.45)/0.0149 ≈ -3.36\n",
    "• p-value ≈ 0.0004\n",
    "• Conclusion: p-value < 0.05 → Reject H₀\n",
    "• Conclusion: Accurate"
   ]
  },
  {
   "cell_type": "markdown",
   "id": "06f48ce2",
   "metadata": {},
   "source": [
    "9. A study of 500 participants found that 72% achieved their weight loss\n",
    "goal using a new fitness program. The margin of error at 95% confidence is\n",
    "±6%.\n",
    "A fitness website states: \"More than 70% of participants reached their\n",
    "weight loss goal.\" At 95% confidence, using the p_value approach, is this claim supported?\n",
    "\n",
    "\n",
    "• H₀: p ≤ 0.7\n",
    "• H₁: p > 0.7\n",
    "• p̂ = 0.72, n = 500\n",
    "• SE = √[0.7×0.3/500] ≈ 0.0205\n",
    "• z = (0.72 - 0.7)/0.0205 ≈ 0.98\n",
    "• p-value ≈ 0.1635\n",
    "• Conclusion: p-value > 0.05 → Fail to reject H₀\n",
    "• Conclusion: Not supported"
   ]
  },
  {
   "cell_type": "markdown",
   "id": "288423ac",
   "metadata": {},
   "source": [
    "Formula for CI:\n",
    "\n",
    "CI = PE +/- ME\n",
    "we check if the claim falls within the confidence interval or is fully supported by it."
   ]
  },
  {
   "cell_type": "markdown",
   "id": "f39f8c81",
   "metadata": {},
   "source": [
    "1. A survey of 1,200 voters found that 48% approve of a certain political\n",
    "leader. The margin of error at 95% confidence is ±2.5%.\n",
    "A news report states: \"A majority of voters approve of the leader.\"\n",
    "At 95% confidence, using the confidence interval approach, is this\n",
    "statement justified?\n",
    "\n",
    "\n",
    "• Sample proportion (p̂ ) = 0.48\n",
    "• MOE = 0.025\n",
    "• Claim: \"A majority (>50%) approve\"\n",
    "\n",
    "CI = 0.48 ± 0.025 = [0.455, 0.505]\n",
    "\n",
    "Conclusion: 0.5 is within the interval, so we cannot be confident that a majority \n",
    "approve. Claim is Not Justified."
   ]
  },
  {
   "cell_type": "markdown",
   "id": "54ebbd98",
   "metadata": {},
   "source": [
    "2. A survey of 850 customers found that 67% were satisfied with a new\n",
    "product. The margin of error at 95% confidence is ±4%.\n",
    "An advertisement states: \"At least 65% of our customers are satisfied with\n",
    "this product.\" At 95% confidence, using the confidence inverval approach, is this claim\n",
    "justified?\n",
    "\n",
    "• p̂ = 0.67\n",
    "• MOE = 0.04\n",
    "• Claim: \"At least 65% are satisfied\"\n",
    "\n",
    "CI = 0.67 ± 0.04 = [0.63, 0.71]\n",
    "\n",
    "Conclusion: Entire CI is above 0.65.\n",
    "Claim is Justified."
   ]
  },
  {
   "cell_type": "markdown",
   "id": "71d314b1",
   "metadata": {},
   "source": [
    "3. A medical study on 1,500 people found that 53% of participants avoided the flu \n",
    "after vaccination. The margin of error at 95% confidence is ±2.9%.\n",
    "A health magazine claims: \"More than half of vaccinated people avoid the flu.\"\n",
    "At 95% confidence,using the confidence interval approach, is this statement \n",
    "supported?\n",
    "\n",
    "\n",
    "• p̂ = 0.53\n",
    "• MOE = 0.029\n",
    "• Claim: \"More than half (50%) avoided the flu\"\n",
    "\n",
    "CI = 0.53 ± 0.029 = [0.501, 0.559]\n",
    "\n",
    "Conclusion: Entire CI is above 0.50\n",
    "Claim is Supported."
   ]
  },
  {
   "cell_type": "markdown",
   "id": "a3aeaaf1",
   "metadata": {},
   "source": [
    "4. A survey of 2,000 teenagers found that 78% use the internet daily. The margin of \n",
    "error at 95% confidence is ±1.5%.\n",
    "A news article states: \"At least 80% of teens use the internet daily.\"\n",
    "At 95% confidence, using the confidence interval approach, is this claim justified?\n",
    "\n",
    "• p̂ = 0.78\n",
    "• MOE = 0.015\n",
    "• Claim: \"At least 80% use internet daily\"\n",
    "\n",
    "CI = 0.78 ± 0.015 = [0.765, 0.795]\n",
    "\n",
    "Conclusion: CI is below 0.80\n",
    "Claim is Not Justified."
   ]
  },
  {
   "cell_type": "markdown",
   "id": "bfb868da",
   "metadata": {},
   "source": [
    "5. A study of 900 adults found that 62% believe climate change is a major\n",
    "threat. The margin of error at 95% confidence is ±3.5%.\n",
    "A newspaper headline reads: \"More than 60% of Americans believe climate\n",
    "change is a major threat.\"\n",
    "At 95% confidence, using the confidence interval approach, is this claim\n",
    "supported?\n",
    "\n",
    "• p̂ = 0.62\n",
    "• MOE = 0.035\n",
    "• Claim: \"More than 60% believe climate change is a major threat\"\n",
    "\n",
    "CI = 0.62 ± 0.035 = [0.585, 0.655]\n",
    "\n",
    "Conclusion: CI includes 0.60, so we are not sure\n",
    "Claim is Not Fully Supported."
   ]
  },
  {
   "cell_type": "markdown",
   "id": "30e5a45c",
   "metadata": {},
   "source": [
    "6. A company survey of 750 employees found that 85% were satisfied with their job. \n",
    "The margin of error at 95% confidence is ±4.9%.\n",
    "The company states in a report: \"At least 80% of our employees are satisfied with \n",
    "their job.\"\n",
    "At 95% confidence, using the confidence interval approach, is this statement \n",
    "justified?\n",
    "\n",
    "• p̂ = 0.85\n",
    "• MOE = 0.049\n",
    "• Claim: \"At least 80% are satisfied\"\n",
    "\n",
    "CI = 0.85 ± 0.049 = [0.801, 0.899]\n",
    "\n",
    "Conclusion: Entire CI is above 0.80\n",
    "Claim is Justified."
   ]
  },
  {
   "cell_type": "markdown",
   "id": "efbafa98",
   "metadata": {},
   "source": [
    "7. A national poll of 1,300 citizens found that 49% support a new policy. The margin \n",
    "of error at 95% confidence is ±3%.\n",
    "A political analyst claims: \"The country is divided on this issue, with around half \n",
    "supporting the new policy.\"\n",
    "At 95% confidence, using the confidence interval approach, is this claim \n",
    "reasonable?\n",
    "\n",
    "\n",
    "• p̂ = 0.49\n",
    "• MOE = 0.03\n",
    "• Claim: \"Around half support the new policy\"\n",
    "\n",
    "CI = 0.49 ± 0.03 = [0.46, 0.52]\n",
    "\n",
    "Conclusion: 0.5 is within CI\n",
    "Claim is Reasonable."
   ]
  },
  {
   "cell_type": "markdown",
   "id": "39192124",
   "metadata": {},
   "source": [
    "8. A study of 500 participants found that 72% achieved their weight loss\n",
    "goal using a new fitness program. The margin of error at 95% confidence is\n",
    "±6%.\n",
    "A fitness website states: \"More than 70% of participants reached their\n",
    "weight loss goal.\"\n",
    "At 95% confidence, using the confidence interval approach, is this claim\n",
    "supported?\n",
    "\n",
    "\n",
    "• p̂ = 0.72\n",
    "• MOE = 0.06\n",
    "• Claim: \"More than 70% reached goal\"\n",
    "\n",
    "CI = 0.72 ± 0.06 = [0.66, 0.78]\n",
    "\n",
    "Conclusion: Entire CI is above 0.70\n",
    "Claim is Supported."
   ]
  },
  {
   "cell_type": "markdown",
   "id": "86c4c964",
   "metadata": {},
   "source": [
    "9. A study of 1,100 people found that 40% eat fast food at least once per week. The \n",
    "margin of error at 95% confidence is ±2.5%.\n",
    "A health blog states: \"Fewer than 45% of people eat fast food weekly.\"\n",
    "At 95% confidence, using the confidence interval approach, is this statement \n",
    "accurate?\n",
    "\n",
    "• p̂ = 0.40\n",
    "• MOE = 0.025\n",
    "• Claim: \"Fewer than 45% eat fast food weekly\"\n",
    "\n",
    "CI = 0.40 ± 0.025 = [0.375, 0.425]\n",
    "\n",
    "Conclusion: Entire CI is below 0.45\n",
    "Claim is Accurate."
   ]
  }
 ],
 "metadata": {
  "kernelspec": {
   "display_name": "Python 3",
   "language": "python",
   "name": "python3"
  },
  "language_info": {
   "codemirror_mode": {
    "name": "ipython",
    "version": 3
   },
   "file_extension": ".py",
   "mimetype": "text/x-python",
   "name": "python",
   "nbconvert_exporter": "python",
   "pygments_lexer": "ipython3",
   "version": "3.13.3"
  }
 },
 "nbformat": 4,
 "nbformat_minor": 5
}
